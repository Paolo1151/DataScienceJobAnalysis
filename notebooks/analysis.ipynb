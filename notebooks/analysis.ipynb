{
 "cells": [
  {
   "cell_type": "code",
   "execution_count": 148,
   "metadata": {},
   "outputs": [],
   "source": [
    "import pandas as pd\n",
    "import numpy as np\n",
    "import os\n",
    "\n",
    "ds_path = os.path.join(os.getcwd(), '..', 'data')\n",
    "\n",
    "df = pd.read_csv(os.path.join(ds_path, 'ds_salaries.csv'), index_col=0)"
   ]
  },
  {
   "cell_type": "markdown",
   "metadata": {},
   "source": [
    "# Data Cleaning and Feature Creation"
   ]
  },
  {
   "cell_type": "code",
   "execution_count": 149,
   "metadata": {},
   "outputs": [
    {
     "data": {
      "text/html": [
       "<div>\n",
       "<style scoped>\n",
       "    .dataframe tbody tr th:only-of-type {\n",
       "        vertical-align: middle;\n",
       "    }\n",
       "\n",
       "    .dataframe tbody tr th {\n",
       "        vertical-align: top;\n",
       "    }\n",
       "\n",
       "    .dataframe thead th {\n",
       "        text-align: right;\n",
       "    }\n",
       "</style>\n",
       "<table border=\"1\" class=\"dataframe\">\n",
       "  <thead>\n",
       "    <tr style=\"text-align: right;\">\n",
       "      <th></th>\n",
       "      <th>work_year</th>\n",
       "      <th>experience_level</th>\n",
       "      <th>employment_type</th>\n",
       "      <th>job_title</th>\n",
       "      <th>salary</th>\n",
       "      <th>salary_currency</th>\n",
       "      <th>salary_in_usd</th>\n",
       "      <th>employee_residence</th>\n",
       "      <th>remote_ratio</th>\n",
       "      <th>company_location</th>\n",
       "      <th>company_size</th>\n",
       "    </tr>\n",
       "  </thead>\n",
       "  <tbody>\n",
       "    <tr>\n",
       "      <th>0</th>\n",
       "      <td>2020</td>\n",
       "      <td>MI</td>\n",
       "      <td>FT</td>\n",
       "      <td>Data Scientist</td>\n",
       "      <td>70000</td>\n",
       "      <td>EUR</td>\n",
       "      <td>79833</td>\n",
       "      <td>DE</td>\n",
       "      <td>0</td>\n",
       "      <td>DE</td>\n",
       "      <td>L</td>\n",
       "    </tr>\n",
       "    <tr>\n",
       "      <th>1</th>\n",
       "      <td>2020</td>\n",
       "      <td>SE</td>\n",
       "      <td>FT</td>\n",
       "      <td>Machine Learning Scientist</td>\n",
       "      <td>260000</td>\n",
       "      <td>USD</td>\n",
       "      <td>260000</td>\n",
       "      <td>JP</td>\n",
       "      <td>0</td>\n",
       "      <td>JP</td>\n",
       "      <td>S</td>\n",
       "    </tr>\n",
       "    <tr>\n",
       "      <th>2</th>\n",
       "      <td>2020</td>\n",
       "      <td>SE</td>\n",
       "      <td>FT</td>\n",
       "      <td>Big Data Engineer</td>\n",
       "      <td>85000</td>\n",
       "      <td>GBP</td>\n",
       "      <td>109024</td>\n",
       "      <td>GB</td>\n",
       "      <td>50</td>\n",
       "      <td>GB</td>\n",
       "      <td>M</td>\n",
       "    </tr>\n",
       "    <tr>\n",
       "      <th>3</th>\n",
       "      <td>2020</td>\n",
       "      <td>MI</td>\n",
       "      <td>FT</td>\n",
       "      <td>Product Data Analyst</td>\n",
       "      <td>20000</td>\n",
       "      <td>USD</td>\n",
       "      <td>20000</td>\n",
       "      <td>HN</td>\n",
       "      <td>0</td>\n",
       "      <td>HN</td>\n",
       "      <td>S</td>\n",
       "    </tr>\n",
       "    <tr>\n",
       "      <th>4</th>\n",
       "      <td>2020</td>\n",
       "      <td>SE</td>\n",
       "      <td>FT</td>\n",
       "      <td>Machine Learning Engineer</td>\n",
       "      <td>150000</td>\n",
       "      <td>USD</td>\n",
       "      <td>150000</td>\n",
       "      <td>US</td>\n",
       "      <td>50</td>\n",
       "      <td>US</td>\n",
       "      <td>L</td>\n",
       "    </tr>\n",
       "  </tbody>\n",
       "</table>\n",
       "</div>"
      ],
      "text/plain": [
       "   work_year experience_level employment_type                   job_title  \\\n",
       "0       2020               MI              FT              Data Scientist   \n",
       "1       2020               SE              FT  Machine Learning Scientist   \n",
       "2       2020               SE              FT           Big Data Engineer   \n",
       "3       2020               MI              FT        Product Data Analyst   \n",
       "4       2020               SE              FT   Machine Learning Engineer   \n",
       "\n",
       "   salary salary_currency  salary_in_usd employee_residence  remote_ratio  \\\n",
       "0   70000             EUR          79833                 DE             0   \n",
       "1  260000             USD         260000                 JP             0   \n",
       "2   85000             GBP         109024                 GB            50   \n",
       "3   20000             USD          20000                 HN             0   \n",
       "4  150000             USD         150000                 US            50   \n",
       "\n",
       "  company_location company_size  \n",
       "0               DE            L  \n",
       "1               JP            S  \n",
       "2               GB            M  \n",
       "3               HN            S  \n",
       "4               US            L  "
      ]
     },
     "execution_count": 149,
     "metadata": {},
     "output_type": "execute_result"
    }
   ],
   "source": [
    "df.head()"
   ]
  },
  {
   "cell_type": "code",
   "execution_count": 189,
   "metadata": {},
   "outputs": [],
   "source": [
    "import requests\n",
    "import bs4\n",
    "from bs4 import BeautifulSoup\n",
    "import pandas as pd\n",
    "\n",
    "def get_iso_codes() -> pd.DataFrame:\n",
    "    r = requests.get('https://en.wikipedia.org/wiki/List_of_ISO_3166_country_codes').text\n",
    "    soup = BeautifulSoup(r, 'html.parser')\n",
    "    table = soup.findAll('table', class_ = 'wikitable sortable')\n",
    "    iso_cc_df = pd.read_html(str(table[0]), header=None)[0]\n",
    "    iso_cc_df = iso_cc_df.T.reset_index().drop(columns=['level_0']).iloc[[0, 3]].T.reset_index(drop=True).rename(columns={0: \"Country Name\", 3: \"Code\"}).iloc[1:, :]\n",
    "    iso_cc_df.loc[1, :]['Code'] = \"AF\"\n",
    "    iso_cc_df.dropna(inplace=True)\n",
    "    to_drop = iso_cc_df[iso_cc_df['Code'].str.contains(\"See\")].index\n",
    "    iso_cc_df.drop(to_drop, inplace=True)\n",
    "    iso_cc_df = iso_cc_df.reset_index(drop=True)\n",
    "    return iso_cc_df\n",
    "\n",
    "iso_cc_df = get_iso_codes()"
   ]
  },
  {
   "cell_type": "code",
   "execution_count": 191,
   "metadata": {},
   "outputs": [],
   "source": [
    "iso_cc_df.to_csv(\"iso_cc.csv\", index=False)"
   ]
  },
  {
   "cell_type": "code",
   "execution_count": 150,
   "metadata": {},
   "outputs": [],
   "source": [
    "df.drop(columns=['salary', 'salary_currency'], inplace=True)"
   ]
  },
  {
   "cell_type": "code",
   "execution_count": 151,
   "metadata": {},
   "outputs": [],
   "source": [
    "df['arrangement_type'] = df['remote_ratio'] // 50\n",
    "df['arrangement_type'] = df['arrangement_type'].astype(int).map({0: 'On-site', 1: 'Hybrid', 2: 'Remote'})\n",
    "df.drop(columns=['remote_ratio'], inplace=True)"
   ]
  },
  {
   "cell_type": "code",
   "execution_count": 152,
   "metadata": {},
   "outputs": [
    {
     "data": {
      "text/html": [
       "<div>\n",
       "<style scoped>\n",
       "    .dataframe tbody tr th:only-of-type {\n",
       "        vertical-align: middle;\n",
       "    }\n",
       "\n",
       "    .dataframe tbody tr th {\n",
       "        vertical-align: top;\n",
       "    }\n",
       "\n",
       "    .dataframe thead th {\n",
       "        text-align: right;\n",
       "    }\n",
       "</style>\n",
       "<table border=\"1\" class=\"dataframe\">\n",
       "  <thead>\n",
       "    <tr style=\"text-align: right;\">\n",
       "      <th></th>\n",
       "      <th>work_year</th>\n",
       "      <th>experience_level</th>\n",
       "      <th>employment_type</th>\n",
       "      <th>job_title</th>\n",
       "      <th>salary_in_usd</th>\n",
       "      <th>employee_residence</th>\n",
       "      <th>company_location</th>\n",
       "      <th>company_size</th>\n",
       "      <th>arrangement_type</th>\n",
       "      <th>field</th>\n",
       "    </tr>\n",
       "  </thead>\n",
       "  <tbody>\n",
       "    <tr>\n",
       "      <th>0</th>\n",
       "      <td>2020</td>\n",
       "      <td>MI</td>\n",
       "      <td>FT</td>\n",
       "      <td>Data Scientist</td>\n",
       "      <td>79833</td>\n",
       "      <td>DE</td>\n",
       "      <td>DE</td>\n",
       "      <td>L</td>\n",
       "      <td>On-site</td>\n",
       "      <td>Data Science</td>\n",
       "    </tr>\n",
       "    <tr>\n",
       "      <th>1</th>\n",
       "      <td>2020</td>\n",
       "      <td>SE</td>\n",
       "      <td>FT</td>\n",
       "      <td>Machine Learning Scientist</td>\n",
       "      <td>260000</td>\n",
       "      <td>JP</td>\n",
       "      <td>JP</td>\n",
       "      <td>S</td>\n",
       "      <td>On-site</td>\n",
       "      <td>Machine Learning and Artificial Intelligence</td>\n",
       "    </tr>\n",
       "    <tr>\n",
       "      <th>2</th>\n",
       "      <td>2020</td>\n",
       "      <td>SE</td>\n",
       "      <td>FT</td>\n",
       "      <td>Big Data Engineer</td>\n",
       "      <td>109024</td>\n",
       "      <td>GB</td>\n",
       "      <td>GB</td>\n",
       "      <td>M</td>\n",
       "      <td>Hybrid</td>\n",
       "      <td>Data Engineering</td>\n",
       "    </tr>\n",
       "    <tr>\n",
       "      <th>3</th>\n",
       "      <td>2020</td>\n",
       "      <td>MI</td>\n",
       "      <td>FT</td>\n",
       "      <td>Product Data Analyst</td>\n",
       "      <td>20000</td>\n",
       "      <td>HN</td>\n",
       "      <td>HN</td>\n",
       "      <td>S</td>\n",
       "      <td>On-site</td>\n",
       "      <td>Data Analysis</td>\n",
       "    </tr>\n",
       "    <tr>\n",
       "      <th>4</th>\n",
       "      <td>2020</td>\n",
       "      <td>SE</td>\n",
       "      <td>FT</td>\n",
       "      <td>Machine Learning Engineer</td>\n",
       "      <td>150000</td>\n",
       "      <td>US</td>\n",
       "      <td>US</td>\n",
       "      <td>L</td>\n",
       "      <td>Hybrid</td>\n",
       "      <td>Machine Learning and Artificial Intelligence</td>\n",
       "    </tr>\n",
       "  </tbody>\n",
       "</table>\n",
       "</div>"
      ],
      "text/plain": [
       "   work_year experience_level employment_type                   job_title  \\\n",
       "0       2020               MI              FT              Data Scientist   \n",
       "1       2020               SE              FT  Machine Learning Scientist   \n",
       "2       2020               SE              FT           Big Data Engineer   \n",
       "3       2020               MI              FT        Product Data Analyst   \n",
       "4       2020               SE              FT   Machine Learning Engineer   \n",
       "\n",
       "   salary_in_usd employee_residence company_location company_size  \\\n",
       "0          79833                 DE               DE            L   \n",
       "1         260000                 JP               JP            S   \n",
       "2         109024                 GB               GB            M   \n",
       "3          20000                 HN               HN            S   \n",
       "4         150000                 US               US            L   \n",
       "\n",
       "  arrangement_type                                         field  \n",
       "0          On-site                                  Data Science  \n",
       "1          On-site  Machine Learning and Artificial Intelligence  \n",
       "2           Hybrid                              Data Engineering  \n",
       "3          On-site                                 Data Analysis  \n",
       "4           Hybrid  Machine Learning and Artificial Intelligence  "
      ]
     },
     "execution_count": 152,
     "metadata": {},
     "output_type": "execute_result"
    }
   ],
   "source": [
    "ds_type = {\n",
    "    ('data scientist', 'data science'): 'Data Science',\n",
    "    ('data engineer', 'architect', 'etl'): \"Data Engineering\",\n",
    "    ('machine learning', 'ml', 'ai', 'computer vision', 'nlp'): 'Machine Learning and Artificial Intelligence',\n",
    "    ('data analysis', 'data analyst', 'analyst', 'analytics'): \"Data Analysis\",\n",
    "    ('research', ): 'Academe',\n",
    "    ('head of data', ): 'Head of Data'\n",
    "}\n",
    "\n",
    "for i, row in df.iterrows():\n",
    "    labelled = False\n",
    "    for titles, field in ds_type.items():\n",
    "        if any(title in row['job_title'].lower() for title in titles):\n",
    "            df.at[i, 'field'] = field\n",
    "            labelled = True\n",
    "            break\n",
    "    if not labelled:\n",
    "        df.at[i, 'field'] = 'Other'\n",
    "\n",
    "df.head()"
   ]
  },
  {
   "cell_type": "code",
   "execution_count": 153,
   "metadata": {},
   "outputs": [],
   "source": [
    "df = df[df['field'] != 'Other']"
   ]
  },
  {
   "cell_type": "code",
   "execution_count": 154,
   "metadata": {},
   "outputs": [],
   "source": [
    "df['work_year'] = df['work_year'].astype(object)"
   ]
  },
  {
   "cell_type": "code",
   "execution_count": 155,
   "metadata": {},
   "outputs": [],
   "source": [
    "df['brain_drain'] = df['employee_residence'] != df['company_location']\n",
    "df['brain_drain'] = df['brain_drain'].map({True: 'Yes', False: 'No'})"
   ]
  },
  {
   "cell_type": "code",
   "execution_count": 156,
   "metadata": {},
   "outputs": [],
   "source": [
    "df.to_csv(os.path.join(ds_path, 'ds_salaries_processed.csv'), index=False)"
   ]
  },
  {
   "cell_type": "markdown",
   "metadata": {},
   "source": [
    "# Getting to know the Dataset"
   ]
  },
  {
   "cell_type": "code",
   "execution_count": 157,
   "metadata": {},
   "outputs": [],
   "source": [
    "import matplotlib.pyplot as plt\n",
    "import seaborn as sns\n",
    "\n",
    "def create_count_plot(df, x):\n",
    "    plt.figure()\n",
    "    counts = df[x].value_counts()\n",
    "    sns.barplot(x=counts.values, y=counts.index)\n",
    "    plt.title(f\"Count Plot of {x}\")\n",
    "    plt.show()\n",
    "\n",
    "def create_hist_plot(df, x):\n",
    "    plt.figure()\n",
    "    sns.histplot(x=df[x])\n",
    "    plt.title(f\"Histogram of {x}\")\n",
    "    plt.show()"
   ]
  },
  {
   "cell_type": "code",
   "execution_count": 159,
   "metadata": {},
   "outputs": [
    {
     "data": {
      "text/html": [
       "<div>\n",
       "<style scoped>\n",
       "    .dataframe tbody tr th:only-of-type {\n",
       "        vertical-align: middle;\n",
       "    }\n",
       "\n",
       "    .dataframe tbody tr th {\n",
       "        vertical-align: top;\n",
       "    }\n",
       "\n",
       "    .dataframe thead th {\n",
       "        text-align: right;\n",
       "    }\n",
       "</style>\n",
       "<table border=\"1\" class=\"dataframe\">\n",
       "  <thead>\n",
       "    <tr style=\"text-align: right;\">\n",
       "      <th></th>\n",
       "      <th>work_year</th>\n",
       "      <th>experience_level</th>\n",
       "      <th>employment_type</th>\n",
       "      <th>job_title</th>\n",
       "      <th>salary_in_usd</th>\n",
       "      <th>employee_residence</th>\n",
       "      <th>company_location</th>\n",
       "      <th>company_size</th>\n",
       "      <th>arrangement_type</th>\n",
       "      <th>field</th>\n",
       "      <th>brain_drain</th>\n",
       "    </tr>\n",
       "  </thead>\n",
       "  <tbody>\n",
       "    <tr>\n",
       "      <th>0</th>\n",
       "      <td>2020</td>\n",
       "      <td>MI</td>\n",
       "      <td>FT</td>\n",
       "      <td>Data Scientist</td>\n",
       "      <td>79833</td>\n",
       "      <td>DE</td>\n",
       "      <td>DE</td>\n",
       "      <td>L</td>\n",
       "      <td>On-site</td>\n",
       "      <td>Data Science</td>\n",
       "      <td>No</td>\n",
       "    </tr>\n",
       "    <tr>\n",
       "      <th>1</th>\n",
       "      <td>2020</td>\n",
       "      <td>SE</td>\n",
       "      <td>FT</td>\n",
       "      <td>Machine Learning Scientist</td>\n",
       "      <td>260000</td>\n",
       "      <td>JP</td>\n",
       "      <td>JP</td>\n",
       "      <td>S</td>\n",
       "      <td>On-site</td>\n",
       "      <td>Machine Learning and Artificial Intelligence</td>\n",
       "      <td>No</td>\n",
       "    </tr>\n",
       "    <tr>\n",
       "      <th>2</th>\n",
       "      <td>2020</td>\n",
       "      <td>SE</td>\n",
       "      <td>FT</td>\n",
       "      <td>Big Data Engineer</td>\n",
       "      <td>109024</td>\n",
       "      <td>GB</td>\n",
       "      <td>GB</td>\n",
       "      <td>M</td>\n",
       "      <td>Hybrid</td>\n",
       "      <td>Data Engineering</td>\n",
       "      <td>No</td>\n",
       "    </tr>\n",
       "    <tr>\n",
       "      <th>3</th>\n",
       "      <td>2020</td>\n",
       "      <td>MI</td>\n",
       "      <td>FT</td>\n",
       "      <td>Product Data Analyst</td>\n",
       "      <td>20000</td>\n",
       "      <td>HN</td>\n",
       "      <td>HN</td>\n",
       "      <td>S</td>\n",
       "      <td>On-site</td>\n",
       "      <td>Data Analysis</td>\n",
       "      <td>No</td>\n",
       "    </tr>\n",
       "    <tr>\n",
       "      <th>4</th>\n",
       "      <td>2020</td>\n",
       "      <td>SE</td>\n",
       "      <td>FT</td>\n",
       "      <td>Machine Learning Engineer</td>\n",
       "      <td>150000</td>\n",
       "      <td>US</td>\n",
       "      <td>US</td>\n",
       "      <td>L</td>\n",
       "      <td>Hybrid</td>\n",
       "      <td>Machine Learning and Artificial Intelligence</td>\n",
       "      <td>No</td>\n",
       "    </tr>\n",
       "  </tbody>\n",
       "</table>\n",
       "</div>"
      ],
      "text/plain": [
       "   work_year experience_level employment_type                   job_title  \\\n",
       "0       2020               MI              FT              Data Scientist   \n",
       "1       2020               SE              FT  Machine Learning Scientist   \n",
       "2       2020               SE              FT           Big Data Engineer   \n",
       "3       2020               MI              FT        Product Data Analyst   \n",
       "4       2020               SE              FT   Machine Learning Engineer   \n",
       "\n",
       "   salary_in_usd employee_residence company_location company_size  \\\n",
       "0          79833                 DE               DE            L   \n",
       "1         260000                 JP               JP            S   \n",
       "2         109024                 GB               GB            M   \n",
       "3          20000                 HN               HN            S   \n",
       "4         150000                 US               US            L   \n",
       "\n",
       "  arrangement_type                                         field brain_drain  \n",
       "0          On-site                                  Data Science          No  \n",
       "1          On-site  Machine Learning and Artificial Intelligence          No  \n",
       "2           Hybrid                              Data Engineering          No  \n",
       "3          On-site                                 Data Analysis          No  \n",
       "4           Hybrid  Machine Learning and Artificial Intelligence          No  "
      ]
     },
     "execution_count": 159,
     "metadata": {},
     "output_type": "execute_result"
    }
   ],
   "source": [
    "analysis_df = pd.read_csv(os.path.join(ds_path, 'ds_salaries_processed.csv'))\n",
    "analysis_df.head()"
   ]
  },
  {
   "cell_type": "code",
   "execution_count": 160,
   "metadata": {},
   "outputs": [
    {
     "data": {
      "image/png": "[encoded data removed]",
      "text/plain": [
       "<Figure size 432x288 with 1 Axes>"
      ]
     },
     "metadata": {
      "needs_background": "light"
     },
     "output_type": "display_data"
    }
   ],
   "source": [
    "create_count_plot(analysis_df, 'experience_level')"
   ]
  },
  {
   "cell_type": "code",
   "execution_count": 161,
   "metadata": {},
   "outputs": [
    {
     "data": {
      "image/png": "[encoded data removed]",
      "text/plain": [
       "<Figure size 432x288 with 1 Axes>"
      ]
     },
     "metadata": {
      "needs_background": "light"
     },
     "output_type": "display_data"
    }
   ],
   "source": [
    "create_count_plot(analysis_df, 'employment_type')"
   ]
  },
  {
   "cell_type": "code",
   "execution_count": 162,
   "metadata": {},
   "outputs": [
    {
     "data": {
      "image/png": "[encoded data removed]",
      "text/plain": [
       "<Figure size 432x288 with 1 Axes>"
      ]
     },
     "metadata": {
      "needs_background": "light"
     },
     "output_type": "display_data"
    }
   ],
   "source": [
    "create_count_plot(analysis_df, 'job_title')"
   ]
  },
  {
   "cell_type": "code",
   "execution_count": 163,
   "metadata": {},
   "outputs": [
    {
     "data": {
      "image/png": "[encoded data removed]",
      "text/plain": [
       "<Figure size 432x288 with 1 Axes>"
      ]
     },
     "metadata": {
      "needs_background": "light"
     },
     "output_type": "display_data"
    }
   ],
   "source": [
    "create_hist_plot(analysis_df, 'salary_in_usd')"
   ]
  },
  {
   "cell_type": "code",
   "execution_count": 164,
   "metadata": {},
   "outputs": [
    {
     "data": {
      "image/png": "[encoded data removed]",
      "text/plain": [
       "<Figure size 432x288 with 1 Axes>"
      ]
     },
     "metadata": {
      "needs_background": "light"
     },
     "output_type": "display_data"
    }
   ],
   "source": [
    "create_count_plot(analysis_df, 'company_size')"
   ]
  },
  {
   "cell_type": "code",
   "execution_count": 165,
   "metadata": {},
   "outputs": [
    {
     "data": {
      "image/png": "[encoded data removed]",
      "text/plain": [
       "<Figure size 432x288 with 1 Axes>"
      ]
     },
     "metadata": {
      "needs_background": "light"
     },
     "output_type": "display_data"
    }
   ],
   "source": [
    "create_count_plot(analysis_df, 'arrangement_type')"
   ]
  },
  {
   "cell_type": "code",
   "execution_count": 166,
   "metadata": {},
   "outputs": [
    {
     "data": {
      "image/png": "[encoded data removed]",
      "text/plain": [
       "<Figure size 432x288 with 1 Axes>"
      ]
     },
     "metadata": {
      "needs_background": "light"
     },
     "output_type": "display_data"
    }
   ],
   "source": [
    "create_count_plot(analysis_df, 'field')"
   ]
  },
  {
   "cell_type": "code",
   "execution_count": 167,
   "metadata": {},
   "outputs": [
    {
     "data": {
      "image/png": "[encoded data removed]",
      "text/plain": [
       "<Figure size 432x288 with 1 Axes>"
      ]
     },
     "metadata": {
      "needs_background": "light"
     },
     "output_type": "display_data"
    }
   ],
   "source": [
    "create_count_plot(analysis_df, 'brain_drain')"
   ]
  },
  {
   "cell_type": "markdown",
   "metadata": {},
   "source": [
    "# Simple Questions"
   ]
  },
  {
   "cell_type": "code",
   "execution_count": 168,
   "metadata": {},
   "outputs": [
    {
     "data": {
      "text/html": [
       "<div>\n",
       "<style scoped>\n",
       "    .dataframe tbody tr th:only-of-type {\n",
       "        vertical-align: middle;\n",
       "    }\n",
       "\n",
       "    .dataframe tbody tr th {\n",
       "        vertical-align: top;\n",
       "    }\n",
       "\n",
       "    .dataframe thead th {\n",
       "        text-align: right;\n",
       "    }\n",
       "</style>\n",
       "<table border=\"1\" class=\"dataframe\">\n",
       "  <thead>\n",
       "    <tr style=\"text-align: right;\">\n",
       "      <th></th>\n",
       "      <th></th>\n",
       "      <th>salary_in_usd</th>\n",
       "    </tr>\n",
       "    <tr>\n",
       "      <th>work_year</th>\n",
       "      <th>field</th>\n",
       "      <th></th>\n",
       "    </tr>\n",
       "  </thead>\n",
       "  <tbody>\n",
       "    <tr>\n",
       "      <th rowspan=\"5\" valign=\"top\">2020</th>\n",
       "      <th>Data Analysis</th>\n",
       "      <td>58838.692308</td>\n",
       "    </tr>\n",
       "    <tr>\n",
       "      <th>Data Engineering</th>\n",
       "      <td>87943.833333</td>\n",
       "    </tr>\n",
       "    <tr>\n",
       "      <th>Data Science</th>\n",
       "      <td>102948.178571</td>\n",
       "    </tr>\n",
       "    <tr>\n",
       "      <th>Machine Learning and Artificial Intelligence</th>\n",
       "      <td>106917.727273</td>\n",
       "    </tr>\n",
       "    <tr>\n",
       "      <th>Academe</th>\n",
       "      <td>246000.000000</td>\n",
       "    </tr>\n",
       "    <tr>\n",
       "      <th rowspan=\"6\" valign=\"top\">2021</th>\n",
       "      <th>Academe</th>\n",
       "      <td>83003.600000</td>\n",
       "    </tr>\n",
       "    <tr>\n",
       "      <th>Machine Learning and Artificial Intelligence</th>\n",
       "      <td>92205.025000</td>\n",
       "    </tr>\n",
       "    <tr>\n",
       "      <th>Data Analysis</th>\n",
       "      <td>95445.171429</td>\n",
       "    </tr>\n",
       "    <tr>\n",
       "      <th>Data Science</th>\n",
       "      <td>96321.364865</td>\n",
       "    </tr>\n",
       "    <tr>\n",
       "      <th>Data Engineering</th>\n",
       "      <td>110163.611111</td>\n",
       "    </tr>\n",
       "    <tr>\n",
       "      <th>Head of Data</th>\n",
       "      <td>189279.666667</td>\n",
       "    </tr>\n",
       "    <tr>\n",
       "      <th rowspan=\"6\" valign=\"top\">2022</th>\n",
       "      <th>Academe</th>\n",
       "      <td>105569.000000</td>\n",
       "    </tr>\n",
       "    <tr>\n",
       "      <th>Data Analysis</th>\n",
       "      <td>106201.126437</td>\n",
       "    </tr>\n",
       "    <tr>\n",
       "      <th>Machine Learning and Artificial Intelligence</th>\n",
       "      <td>111695.342857</td>\n",
       "    </tr>\n",
       "    <tr>\n",
       "      <th>Head of Data</th>\n",
       "      <td>116487.000000</td>\n",
       "    </tr>\n",
       "    <tr>\n",
       "      <th>Data Engineering</th>\n",
       "      <td>129321.510000</td>\n",
       "    </tr>\n",
       "    <tr>\n",
       "      <th>Data Science</th>\n",
       "      <td>142908.466667</td>\n",
       "    </tr>\n",
       "  </tbody>\n",
       "</table>\n",
       "</div>"
      ],
      "text/plain": [
       "                                                        salary_in_usd\n",
       "work_year field                                                      \n",
       "2020      Data Analysis                                  58838.692308\n",
       "          Data Engineering                               87943.833333\n",
       "          Data Science                                  102948.178571\n",
       "          Machine Learning and Artificial Intelligence  106917.727273\n",
       "          Academe                                       246000.000000\n",
       "2021      Academe                                        83003.600000\n",
       "          Machine Learning and Artificial Intelligence   92205.025000\n",
       "          Data Analysis                                  95445.171429\n",
       "          Data Science                                   96321.364865\n",
       "          Data Engineering                              110163.611111\n",
       "          Head of Data                                  189279.666667\n",
       "2022      Academe                                       105569.000000\n",
       "          Data Analysis                                 106201.126437\n",
       "          Machine Learning and Artificial Intelligence  111695.342857\n",
       "          Head of Data                                  116487.000000\n",
       "          Data Engineering                              129321.510000\n",
       "          Data Science                                  142908.466667"
      ]
     },
     "execution_count": 168,
     "metadata": {},
     "output_type": "execute_result"
    }
   ],
   "source": [
    "# How does Mean of Data Science Salaries changed over the years? per field?\n",
    "\n",
    "analysis_df.groupby(['work_year', 'field']).mean().sort_values(by=['work_year', 'salary_in_usd'], ascending=[True, True])"
   ]
  },
  {
   "cell_type": "code",
   "execution_count": 169,
   "metadata": {},
   "outputs": [
    {
     "data": {
      "text/html": [
       "<div>\n",
       "<style scoped>\n",
       "    .dataframe tbody tr th:only-of-type {\n",
       "        vertical-align: middle;\n",
       "    }\n",
       "\n",
       "    .dataframe tbody tr th {\n",
       "        vertical-align: top;\n",
       "    }\n",
       "\n",
       "    .dataframe thead th {\n",
       "        text-align: right;\n",
       "    }\n",
       "</style>\n",
       "<table border=\"1\" class=\"dataframe\">\n",
       "  <thead>\n",
       "    <tr style=\"text-align: right;\">\n",
       "      <th></th>\n",
       "      <th></th>\n",
       "      <th>salary_in_usd</th>\n",
       "    </tr>\n",
       "    <tr>\n",
       "      <th>experience_level</th>\n",
       "      <th>field</th>\n",
       "      <th></th>\n",
       "    </tr>\n",
       "  </thead>\n",
       "  <tbody>\n",
       "    <tr>\n",
       "      <th rowspan=\"5\" valign=\"top\">EN</th>\n",
       "      <th>Data Engineering</th>\n",
       "      <td>53287.466667</td>\n",
       "    </tr>\n",
       "    <tr>\n",
       "      <th>Data Analysis</th>\n",
       "      <td>55050.111111</td>\n",
       "    </tr>\n",
       "    <tr>\n",
       "      <th>Data Science</th>\n",
       "      <td>58590.035714</td>\n",
       "    </tr>\n",
       "    <tr>\n",
       "      <th>Machine Learning and Artificial Intelligence</th>\n",
       "      <td>71710.826087</td>\n",
       "    </tr>\n",
       "    <tr>\n",
       "      <th>Academe</th>\n",
       "      <td>86132.000000</td>\n",
       "    </tr>\n",
       "    <tr>\n",
       "      <th rowspan=\"5\" valign=\"top\">EX</th>\n",
       "      <th>Machine Learning and Artificial Intelligence</th>\n",
       "      <td>79039.000000</td>\n",
       "    </tr>\n",
       "    <tr>\n",
       "      <th>Data Analysis</th>\n",
       "      <td>140000.000000</td>\n",
       "    </tr>\n",
       "    <tr>\n",
       "      <th>Data Science</th>\n",
       "      <td>196375.818182</td>\n",
       "    </tr>\n",
       "    <tr>\n",
       "      <th>Head of Data</th>\n",
       "      <td>232500.000000</td>\n",
       "    </tr>\n",
       "    <tr>\n",
       "      <th>Data Engineering</th>\n",
       "      <td>254288.571429</td>\n",
       "    </tr>\n",
       "    <tr>\n",
       "      <th rowspan=\"6\" valign=\"top\">MI</th>\n",
       "      <th>Head of Data</th>\n",
       "      <td>32974.000000</td>\n",
       "    </tr>\n",
       "    <tr>\n",
       "      <th>Data Analysis</th>\n",
       "      <td>78704.071429</td>\n",
       "    </tr>\n",
       "    <tr>\n",
       "      <th>Data Engineering</th>\n",
       "      <td>85505.656250</td>\n",
       "    </tr>\n",
       "    <tr>\n",
       "      <th>Data Science</th>\n",
       "      <td>87721.376812</td>\n",
       "    </tr>\n",
       "    <tr>\n",
       "      <th>Machine Learning and Artificial Intelligence</th>\n",
       "      <td>97466.366667</td>\n",
       "    </tr>\n",
       "    <tr>\n",
       "      <th>Academe</th>\n",
       "      <td>136498.142857</td>\n",
       "    </tr>\n",
       "    <tr>\n",
       "      <th rowspan=\"6\" valign=\"top\">SE</th>\n",
       "      <th>Academe</th>\n",
       "      <td>88859.400000</td>\n",
       "    </tr>\n",
       "    <tr>\n",
       "      <th>Data Analysis</th>\n",
       "      <td>119264.414286</td>\n",
       "    </tr>\n",
       "    <tr>\n",
       "      <th>Machine Learning and Artificial Intelligence</th>\n",
       "      <td>128789.187500</td>\n",
       "    </tr>\n",
       "    <tr>\n",
       "      <th>Data Engineering</th>\n",
       "      <td>144328.848837</td>\n",
       "    </tr>\n",
       "    <tr>\n",
       "      <th>Head of Data</th>\n",
       "      <td>151419.500000</td>\n",
       "    </tr>\n",
       "    <tr>\n",
       "      <th>Data Science</th>\n",
       "      <td>154984.071429</td>\n",
       "    </tr>\n",
       "  </tbody>\n",
       "</table>\n",
       "</div>"
      ],
      "text/plain": [
       "                                                               salary_in_usd\n",
       "experience_level field                                                      \n",
       "EN               Data Engineering                               53287.466667\n",
       "                 Data Analysis                                  55050.111111\n",
       "                 Data Science                                   58590.035714\n",
       "                 Machine Learning and Artificial Intelligence   71710.826087\n",
       "                 Academe                                        86132.000000\n",
       "EX               Machine Learning and Artificial Intelligence   79039.000000\n",
       "                 Data Analysis                                 140000.000000\n",
       "                 Data Science                                  196375.818182\n",
       "                 Head of Data                                  232500.000000\n",
       "                 Data Engineering                              254288.571429\n",
       "MI               Head of Data                                   32974.000000\n",
       "                 Data Analysis                                  78704.071429\n",
       "                 Data Engineering                               85505.656250\n",
       "                 Data Science                                   87721.376812\n",
       "                 Machine Learning and Artificial Intelligence   97466.366667\n",
       "                 Academe                                       136498.142857\n",
       "SE               Academe                                        88859.400000\n",
       "                 Data Analysis                                 119264.414286\n",
       "                 Machine Learning and Artificial Intelligence  128789.187500\n",
       "                 Data Engineering                              144328.848837\n",
       "                 Head of Data                                  151419.500000\n",
       "                 Data Science                                  154984.071429"
      ]
     },
     "execution_count": 169,
     "metadata": {},
     "output_type": "execute_result"
    }
   ],
   "source": [
    "# What is the Mean Salary of Data Science Professionals per experience per year\n",
    "\n",
    "analysis_df.groupby(['experience_level', 'field']).mean().sort_values(by=['experience_level', 'salary_in_usd'], ascending=[True, True])[['salary_in_usd']]"
   ]
  },
  {
   "cell_type": "code",
   "execution_count": 186,
   "metadata": {},
   "outputs": [
    {
     "data": {
      "text/html": [
       "<div>\n",
       "<style scoped>\n",
       "    .dataframe tbody tr th:only-of-type {\n",
       "        vertical-align: middle;\n",
       "    }\n",
       "\n",
       "    .dataframe tbody tr th {\n",
       "        vertical-align: top;\n",
       "    }\n",
       "\n",
       "    .dataframe thead th {\n",
       "        text-align: right;\n",
       "    }\n",
       "</style>\n",
       "<table border=\"1\" class=\"dataframe\">\n",
       "  <thead>\n",
       "    <tr style=\"text-align: right;\">\n",
       "      <th></th>\n",
       "      <th>brain_drain</th>\n",
       "    </tr>\n",
       "    <tr>\n",
       "      <th>employee_residence</th>\n",
       "      <th></th>\n",
       "    </tr>\n",
       "  </thead>\n",
       "  <tbody>\n",
       "    <tr>\n",
       "      <th>IN</th>\n",
       "      <td>11.76</td>\n",
       "    </tr>\n",
       "    <tr>\n",
       "      <th>FR</th>\n",
       "      <td>7.84</td>\n",
       "    </tr>\n",
       "    <tr>\n",
       "      <th>PK</th>\n",
       "      <td>5.88</td>\n",
       "    </tr>\n",
       "    <tr>\n",
       "      <th>BR</th>\n",
       "      <td>5.88</td>\n",
       "    </tr>\n",
       "    <tr>\n",
       "      <th>VN</th>\n",
       "      <td>3.92</td>\n",
       "    </tr>\n",
       "    <tr>\n",
       "      <th>PT</th>\n",
       "      <td>3.92</td>\n",
       "    </tr>\n",
       "    <tr>\n",
       "      <th>RO</th>\n",
       "      <td>3.92</td>\n",
       "    </tr>\n",
       "    <tr>\n",
       "      <th>IT</th>\n",
       "      <td>3.92</td>\n",
       "    </tr>\n",
       "    <tr>\n",
       "      <th>RU</th>\n",
       "      <td>3.92</td>\n",
       "    </tr>\n",
       "    <tr>\n",
       "      <th>GR</th>\n",
       "      <td>3.92</td>\n",
       "    </tr>\n",
       "    <tr>\n",
       "      <th>ES</th>\n",
       "      <td>3.92</td>\n",
       "    </tr>\n",
       "    <tr>\n",
       "      <th>DE</th>\n",
       "      <td>3.92</td>\n",
       "    </tr>\n",
       "    <tr>\n",
       "      <th>US</th>\n",
       "      <td>3.92</td>\n",
       "    </tr>\n",
       "    <tr>\n",
       "      <th>SG</th>\n",
       "      <td>1.96</td>\n",
       "    </tr>\n",
       "    <tr>\n",
       "      <th>RS</th>\n",
       "      <td>1.96</td>\n",
       "    </tr>\n",
       "    <tr>\n",
       "      <th>TN</th>\n",
       "      <td>1.96</td>\n",
       "    </tr>\n",
       "    <tr>\n",
       "      <th>PR</th>\n",
       "      <td>1.96</td>\n",
       "    </tr>\n",
       "    <tr>\n",
       "      <th>PL</th>\n",
       "      <td>1.96</td>\n",
       "    </tr>\n",
       "    <tr>\n",
       "      <th>AR</th>\n",
       "      <td>1.96</td>\n",
       "    </tr>\n",
       "    <tr>\n",
       "      <th>PH</th>\n",
       "      <td>1.96</td>\n",
       "    </tr>\n",
       "    <tr>\n",
       "      <th>NL</th>\n",
       "      <td>1.96</td>\n",
       "    </tr>\n",
       "    <tr>\n",
       "      <th>MY</th>\n",
       "      <td>1.96</td>\n",
       "    </tr>\n",
       "    <tr>\n",
       "      <th>BG</th>\n",
       "      <td>1.96</td>\n",
       "    </tr>\n",
       "    <tr>\n",
       "      <th>JE</th>\n",
       "      <td>1.96</td>\n",
       "    </tr>\n",
       "    <tr>\n",
       "      <th>HU</th>\n",
       "      <td>1.96</td>\n",
       "    </tr>\n",
       "    <tr>\n",
       "      <th>HK</th>\n",
       "      <td>1.96</td>\n",
       "    </tr>\n",
       "    <tr>\n",
       "      <th>GB</th>\n",
       "      <td>1.96</td>\n",
       "    </tr>\n",
       "    <tr>\n",
       "      <th>CA</th>\n",
       "      <td>1.96</td>\n",
       "    </tr>\n",
       "    <tr>\n",
       "      <th>BO</th>\n",
       "      <td>1.96</td>\n",
       "    </tr>\n",
       "    <tr>\n",
       "      <th>JP</th>\n",
       "      <td>1.96</td>\n",
       "    </tr>\n",
       "  </tbody>\n",
       "</table>\n",
       "</div>"
      ],
      "text/plain": [
       "                    brain_drain\n",
       "employee_residence             \n",
       "IN                        11.76\n",
       "FR                         7.84\n",
       "PK                         5.88\n",
       "BR                         5.88\n",
       "VN                         3.92\n",
       "PT                         3.92\n",
       "RO                         3.92\n",
       "IT                         3.92\n",
       "RU                         3.92\n",
       "GR                         3.92\n",
       "ES                         3.92\n",
       "DE                         3.92\n",
       "US                         3.92\n",
       "SG                         1.96\n",
       "RS                         1.96\n",
       "TN                         1.96\n",
       "PR                         1.96\n",
       "PL                         1.96\n",
       "AR                         1.96\n",
       "PH                         1.96\n",
       "NL                         1.96\n",
       "MY                         1.96\n",
       "BG                         1.96\n",
       "JE                         1.96\n",
       "HU                         1.96\n",
       "HK                         1.96\n",
       "GB                         1.96\n",
       "CA                         1.96\n",
       "BO                         1.96\n",
       "JP                         1.96"
      ]
     },
     "execution_count": 186,
     "metadata": {},
     "output_type": "execute_result"
    }
   ],
   "source": [
    "# Which Countries Experience Brain Drain?\n",
    "\n",
    "bd_df = analysis_df[analysis_df['brain_drain']==\"Yes\"].groupby(['employee_residence']).count().sort_values(by='brain_drain', ascending=False)[['brain_drain']]\n",
    "bd_df.head()\n",
    "bd_df['brain_drain'] = round((bd_df['brain_drain'] / bd_df['brain_drain'].sum()) * 100, 2)\n",
    "bd_df"
   ]
  },
  {
   "cell_type": "markdown",
   "metadata": {},
   "source": [
    "# Markov Chain Analysis"
   ]
  },
  {
   "cell_type": "code",
   "execution_count": 93,
   "metadata": {},
   "outputs": [],
   "source": [
    "import networkx as nx\n",
    "\n",
    "def create_graph_dict(df):\n",
    "    init_residence = dict(zip(df['employee_residence'].unique(), [dict() for i in range(df['employee_residence'].nunique())]))\n",
    "    for i, row in df.iterrows():\n",
    "        if row['company_location'] in init_residence[row['employee_residence']]:\n",
    "            init_residence[row['employee_residence']][row['company_location']] += 1\n",
    "        else:\n",
    "            init_residence[row['employee_residence']][row['company_location']] = 1\n",
    "\n",
    "    to_delete = []\n",
    "    residence_seqs = {}\n",
    "    for employee_residence, counts in init_residence.items():\n",
    "        total_cnts = sum(counts.values())\n",
    "\n",
    "        if total_cnts == 1:\n",
    "            to_delete.append(employee_residence)\n",
    "\n",
    "        for country, count in counts.items():\n",
    "            counts[country] = count / total_cnts\n",
    "        residence_seqs[employee_residence] = counts\n",
    "\n",
    "    return residence_seqs\n",
    "\n",
    "\n",
    "\n",
    "\n",
    "def graph_top5_origin(df):\n",
    "    top5_countries = df.groupby(['company_location']).count()['employee_residence'].sort_values(ascending=False).head(5)\n",
    "    for country in top5_countries.index:\n",
    "        graph_network(create_graph_dict(df), country)"
   ]
  },
  {
   "cell_type": "code",
   "execution_count": 187,
   "metadata": {},
   "outputs": [
    {
     "data": {
      "image/png": "[encoded data removed]",
      "text/plain": [
       "<Figure size 432x288 with 1 Axes>"
      ]
     },
     "metadata": {},
     "output_type": "display_data"
    },
    {
     "data": {
      "image/png": "[encoded data removed]",
      "text/plain": [
       "<Figure size 432x288 with 1 Axes>"
      ]
     },
     "metadata": {},
     "output_type": "display_data"
    },
    {
     "data": {
      "image/png": "[encoded data removed]",
      "text/plain": [
       "<Figure size 432x288 with 1 Axes>"
      ]
     },
     "metadata": {},
     "output_type": "display_data"
    },
    {
     "data": {
      "image/png": "[encoded data removed]",
      "text/plain": [
       "<Figure size 432x288 with 1 Axes>"
      ]
     },
     "metadata": {},
     "output_type": "display_data"
    },
    {
     "data": {
      "image/png": "[encoded data removed]",
      "text/plain": [
       "<Figure size 432x288 with 1 Axes>"
      ]
     },
     "metadata": {},
     "output_type": "display_data"
    }
   ],
   "source": [
    "graph_top5_origin(analysis_df)"
   ]
  },
  {
   "cell_type": "markdown",
   "metadata": {},
   "source": [
    "# Conclusions"
   ]
  },
  {
   "cell_type": "markdown",
   "metadata": {},
   "source": []
  },
  {
   "cell_type": "markdown",
   "metadata": {},
   "source": [
    "# Recommendations for Future Studies"
   ]
  },
  {
   "cell_type": "markdown",
   "metadata": {},
   "source": []
  }
 ],
 "metadata": {
  "kernelspec": {
   "display_name": "Python 3.9.12 ('dsenv')",
   "language": "python",
   "name": "python3"
  },
  "language_info": {
   "codemirror_mode": {
    "name": "ipython",
    "version": 3
   },
   "file_extension": ".py",
   "mimetype": "text/x-python",
   "name": "python",
   "nbconvert_exporter": "python",
   "pygments_lexer": "ipython3",
   "version": "3.9.12"
  },
  "orig_nbformat": 4,
  "vscode": {
   "interpreter": {
    "hash": "57f33db8188eeca27b98325a77446146cbda6fa03e4a40235f67738ff9616fe2"
   }
  }
 },
 "nbformat": 4,
 "nbformat_minor": 2
}
